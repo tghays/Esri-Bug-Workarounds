{
 "cells": [
  {
   "cell_type": "code",
   "execution_count": 1,
   "metadata": {
    "collapsed": true
   },
   "outputs": [],
   "source": [
    "from arcgis.gis import GIS\n",
    "import json\n",
    "import arcgis\n",
    "from arcgis.features import use_proximity\n",
    "gis = GIS(\"<portal/AGOL URL\", \"username\", \"password\")"
   ]
  },
  {
   "cell_type": "code",
   "execution_count": 2,
   "metadata": {},
   "outputs": [
    {
     "data": {
      "text/plain": [
       "<FeatureLayer url:\"https://services7.arcgis.com/903opF9LxIC4unCH/arcgis/rest/services/base/FeatureServer/0\">"
      ]
     },
     "execution_count": 2,
     "metadata": {},
     "output_type": "execute_result"
    }
   ],
   "source": [
    "# call Point Layer(This is Public Layer you can use maybe...)\n",
    "basedata = gis.content.get('449f8c478e0b4f01bd75c26dd037d666')\n",
    "basedata_point = basedata.layers[0]\n",
    "basedata_point"
   ]
  },
  {
   "cell_type": "code",
   "execution_count": 3,
   "metadata": {
    "collapsed": true
   },
   "outputs": [],
   "source": [
    "travel_mode = 'Rural Driving Time'"
   ]
  },
  {
   "cell_type": "code",
   "execution_count": 4,
   "metadata": {},
   "outputs": [
    {
     "data": {
      "text/html": [
       "<div>\n",
       "<style>\n",
       "    .dataframe thead tr:only-child th {\n",
       "        text-align: right;\n",
       "    }\n",
       "\n",
       "    .dataframe thead th {\n",
       "        text-align: left;\n",
       "    }\n",
       "\n",
       "    .dataframe tbody tr th {\n",
       "        vertical-align: top;\n",
       "    }\n",
       "</style>\n",
       "<table border=\"1\" class=\"dataframe\">\n",
       "  <thead>\n",
       "    <tr style=\"text-align: right;\">\n",
       "      <th></th>\n",
       "      <th>AltName</th>\n",
       "      <th>Name</th>\n",
       "      <th>TravelMode</th>\n",
       "      <th>TravelModeId</th>\n",
       "    </tr>\n",
       "    <tr>\n",
       "      <th>ObjectID</th>\n",
       "      <th></th>\n",
       "      <th></th>\n",
       "      <th></th>\n",
       "      <th></th>\n",
       "    </tr>\n",
       "  </thead>\n",
       "  <tbody>\n",
       "    <tr>\n",
       "      <th>1</th>\n",
       "      <td>Walking Time</td>\n",
       "      <td>Walking Time</td>\n",
       "      <td>{\"attributeParameterValues\": [{\"parameterName\"...</td>\n",
       "      <td>caFAgoThrvUpkFBW</td>\n",
       "    </tr>\n",
       "    <tr>\n",
       "      <th>2</th>\n",
       "      <td>Rural Driving Distance</td>\n",
       "      <td>Rural Driving Distance</td>\n",
       "      <td>{\"attributeParameterValues\": [{\"parameterName\"...</td>\n",
       "      <td>Yzk3NjI1NTU5NjVj</td>\n",
       "    </tr>\n",
       "    <tr>\n",
       "      <th>3</th>\n",
       "      <td>Driving Time</td>\n",
       "      <td>Driving Time</td>\n",
       "      <td>{\"attributeParameterValues\": [{\"parameterName\"...</td>\n",
       "      <td>FEgifRtFndKNcJMJ</td>\n",
       "    </tr>\n",
       "    <tr>\n",
       "      <th>4</th>\n",
       "      <td>Driving Distance</td>\n",
       "      <td>Driving Distance</td>\n",
       "      <td>{\"attributeParameterValues\": [{\"parameterName\"...</td>\n",
       "      <td>iKjmHuBSIqdEfOVr</td>\n",
       "    </tr>\n",
       "    <tr>\n",
       "      <th>5</th>\n",
       "      <td>Walking Distance</td>\n",
       "      <td>Walking Distance</td>\n",
       "      <td>{\"attributeParameterValues\": [{\"parameterName\"...</td>\n",
       "      <td>yFuMFwIYblqKEefX</td>\n",
       "    </tr>\n",
       "    <tr>\n",
       "      <th>6</th>\n",
       "      <td>Rural Driving Time</td>\n",
       "      <td>Rural Driving Time</td>\n",
       "      <td>{\"attributeParameterValues\": [{\"parameterName\"...</td>\n",
       "      <td>NmNhNDUwZmE1YTlj</td>\n",
       "    </tr>\n",
       "    <tr>\n",
       "      <th>7</th>\n",
       "      <td>Trucking Time</td>\n",
       "      <td>Trucking Time</td>\n",
       "      <td>{\"attributeParameterValues\": [{\"parameterName\"...</td>\n",
       "      <td>ZzzRtYcPLjXFBKwr</td>\n",
       "    </tr>\n",
       "    <tr>\n",
       "      <th>8</th>\n",
       "      <td>Trucking Distance</td>\n",
       "      <td>Trucking Distance</td>\n",
       "      <td>{\"attributeParameterValues\": [{\"parameterName\"...</td>\n",
       "      <td>UBaNfFWeKcrRVYIo</td>\n",
       "    </tr>\n",
       "  </tbody>\n",
       "</table>\n",
       "</div>"
      ],
      "text/plain": [
       "                         AltName                    Name  \\\n",
       "ObjectID                                                   \n",
       "1                   Walking Time            Walking Time   \n",
       "2         Rural Driving Distance  Rural Driving Distance   \n",
       "3                   Driving Time            Driving Time   \n",
       "4               Driving Distance        Driving Distance   \n",
       "5               Walking Distance        Walking Distance   \n",
       "6             Rural Driving Time      Rural Driving Time   \n",
       "7                  Trucking Time           Trucking Time   \n",
       "8              Trucking Distance       Trucking Distance   \n",
       "\n",
       "                                                 TravelMode      TravelModeId  \n",
       "ObjectID                                                                       \n",
       "1         {\"attributeParameterValues\": [{\"parameterName\"...  caFAgoThrvUpkFBW  \n",
       "2         {\"attributeParameterValues\": [{\"parameterName\"...  Yzk3NjI1NTU5NjVj  \n",
       "3         {\"attributeParameterValues\": [{\"parameterName\"...  FEgifRtFndKNcJMJ  \n",
       "4         {\"attributeParameterValues\": [{\"parameterName\"...  iKjmHuBSIqdEfOVr  \n",
       "5         {\"attributeParameterValues\": [{\"parameterName\"...  yFuMFwIYblqKEefX  \n",
       "6         {\"attributeParameterValues\": [{\"parameterName\"...  NmNhNDUwZmE1YTlj  \n",
       "7         {\"attributeParameterValues\": [{\"parameterName\"...  ZzzRtYcPLjXFBKwr  \n",
       "8         {\"attributeParameterValues\": [{\"parameterName\"...  UBaNfFWeKcrRVYIo  "
      ]
     },
     "execution_count": 4,
     "metadata": {},
     "output_type": "execute_result"
    }
   ],
   "source": [
    "tm = arcgis.network.analysis.get_travel_modes(gis=gis)\n",
    "stm = tm.supported_travel_modes\n",
    "stm_df = stm.df\n",
    "stm_df"
   ]
  },
  {
   "cell_type": "code",
   "execution_count": 5,
   "metadata": {
    "collapsed": true
   },
   "outputs": [],
   "source": [
    "# get JSON object for the selected travel mode, from the pandas dataframe\n",
    "json_string = stm_df.loc[stm_df['AltName'] == travel_mode, 'TravelMode'].values[0]"
   ]
  },
  {
   "cell_type": "code",
   "execution_count": 6,
   "metadata": {
    "collapsed": true
   },
   "outputs": [],
   "source": [
    "# convert the JSON object from a string to a Python dictionary\n",
    "travel_dict = json.loads(json_string)"
   ]
  },
  {
   "cell_type": "code",
   "execution_count": 7,
   "metadata": {},
   "outputs": [
    {
     "data": {
      "text/plain": [
       "{'attributeParameterValues': [{'attributeName': 'Avoid Private Roads',\n",
       "   'parameterName': 'Restriction Usage',\n",
       "   'value': 'AVOID_MEDIUM'},\n",
       "  {'attributeName': 'Driving an Automobile',\n",
       "   'parameterName': 'Restriction Usage',\n",
       "   'value': 'PROHIBITED'},\n",
       "  {'attributeName': 'Through Traffic Prohibited',\n",
       "   'parameterName': 'Restriction Usage',\n",
       "   'value': 'AVOID_HIGH'},\n",
       "  {'attributeName': 'Roads Under Construction Prohibited',\n",
       "   'parameterName': 'Restriction Usage',\n",
       "   'value': 'PROHIBITED'},\n",
       "  {'attributeName': 'Avoid Gates',\n",
       "   'parameterName': 'Restriction Usage',\n",
       "   'value': 'AVOID_MEDIUM'},\n",
       "  {'attributeName': 'Avoid Express Lanes',\n",
       "   'parameterName': 'Restriction Usage',\n",
       "   'value': 'PROHIBITED'},\n",
       "  {'attributeName': 'Avoid Carpool Roads',\n",
       "   'parameterName': 'Restriction Usage',\n",
       "   'value': 'PROHIBITED'},\n",
       "  {'attributeName': 'TravelTime',\n",
       "   'parameterName': 'Vehicle Maximum Speed (km/h)',\n",
       "   'value': 0}],\n",
       " 'description': 'Models the movement of cars and other similar small automobiles, such as pickup trucks, and finds solutions that optimize travel time. Travel obeys one-way roads, avoids illegal turns, and follows other rules that are specific to cars, but does not discourage travel on unpaved roads. When you specify a start time, dynamic travel speeds based on traffic are used where it is available.',\n",
       " 'distanceAttributeName': 'Kilometers',\n",
       " 'id': 'NmNhNDUwZmE1YTlj',\n",
       " 'impedanceAttributeName': 'TravelTime',\n",
       " 'name': 'Rural Driving Time',\n",
       " 'restrictionAttributeNames': ['Avoid Carpool Roads',\n",
       "  'Avoid Express Lanes',\n",
       "  'Avoid Gates',\n",
       "  'Avoid Private Roads',\n",
       "  'Driving an Automobile',\n",
       "  'Roads Under Construction Prohibited',\n",
       "  'Through Traffic Prohibited'],\n",
       " 'simplificationTolerance': 10,\n",
       " 'simplificationToleranceUnits': 'esriMeters',\n",
       " 'timeAttributeName': 'TravelTime',\n",
       " 'type': 'AUTOMOBILE',\n",
       " 'useHierarchy': True,\n",
       " 'uturnAtJunctions': 'esriNFSBAtDeadEndsAndIntersections'}"
      ]
     },
     "execution_count": 7,
     "metadata": {},
     "output_type": "execute_result"
    }
   ],
   "source": [
    "travel_dict"
   ]
  },
  {
   "cell_type": "code",
   "execution_count": 8,
   "metadata": {},
   "outputs": [],
   "source": [
    "reachablearea = use_proximity.create_drive_time_areas(\n",
    "    basedata_point, break_values=[5], break_units='Minutes', travel_mode = travel_dict, gis=gis, output_name=travel_mode + '_api')\n"
   ]
  },
  {
   "cell_type": "code",
   "execution_count": 9,
   "metadata": {},
   "outputs": [
    {
     "data": {
      "text/html": [
       "<div class=\"item_container\" style=\"height: auto; overflow: hidden; border: 1px solid #cfcfcf; border-radius: 2px; background: #f6fafa; line-height: 1.21429em; padding: 10px;\">\n",
       "                    <div class=\"item_left\" style=\"width: 210px; float: left;\">\n",
       "                       <a href='http://ess.maps.arcgis.com/home/item.html?id=dfcac643d8384a6387ee4265d598181b' target='_blank'>\n",
       "                        <img src='http://static.arcgis.com/images/desktopapp.png' class=\"itemThumbnail\">\n",
       "                       </a>\n",
       "                    </div>\n",
       "\n",
       "                    <div class=\"item_right\"     style=\"float: none; width: auto; overflow: hidden;\">\n",
       "                        <a href='http://ess.maps.arcgis.com/home/item.html?id=dfcac643d8384a6387ee4265d598181b' target='_blank'><b>Rural Driving Time_api</b>\n",
       "                        </a>\n",
       "                        <br/><img src='http://ess.maps.arcgis.com/home/js/jsapi/esri/css/images/item_type_icons/featureshosted16.png' style=\"vertical-align:middle;\">Feature Layer Collection by TylerH_ess\n",
       "                        <br/>Last Modified: January 12, 2018\n",
       "                        <br/>0 comments, 0 views\n",
       "                    </div>\n",
       "                </div>\n",
       "                "
      ],
      "text/plain": [
       "<Item title:\"Rural Driving Time_api\" type:Feature Layer Collection owner:TylerH_ess>"
      ]
     },
     "execution_count": 9,
     "metadata": {},
     "output_type": "execute_result"
    }
   ],
   "source": [
    "reachablearea"
   ]
  },
  {
   "cell_type": "code",
   "execution_count": null,
   "metadata": {
    "collapsed": true
   },
   "outputs": [],
   "source": []
  }
 ],
 "metadata": {
  "kernelspec": {
   "display_name": "Python 3",
   "language": "python",
   "name": "python3"
  },
  "language_info": {
   "codemirror_mode": {
    "name": "ipython",
    "version": 3
   },
   "file_extension": ".py",
   "mimetype": "text/x-python",
   "name": "python",
   "nbconvert_exporter": "python",
   "pygments_lexer": "ipython3",
   "version": "3.6.1"
  }
 },
 "nbformat": 4,
 "nbformat_minor": 2
}
